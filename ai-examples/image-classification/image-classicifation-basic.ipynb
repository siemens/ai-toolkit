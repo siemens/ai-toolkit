{
 "cells": [
  {
   "cell_type": "markdown",
   "metadata": {
    "SPDX-License-Identifier": "MIT",
    "copyright": "Copyright 2020 Siemens AG"
   },
   "source": [
    "# Basic Example for Image Classification\n"
   ]
  },
  {
   "cell_type": "code",
   "execution_count": null,
   "metadata": {
    "scrolled": true
   },
   "outputs": [],
   "source": [
    "import os\n",
    "import shutil\n",
    "import tarfile\n",
    "import tempfile\n",
    "import tensorflow.compat.v1 as tf\n",
    "print(tf.__version__)"
   ]
  },
  {
   "cell_type": "code",
   "execution_count": null,
   "metadata": {},
   "outputs": [],
   "source": [
    "import tensorflow_hub as hub; \n",
    "print(\"Hub version:\", hub.__version__)"
   ]
  },
  {
   "cell_type": "code",
   "execution_count": null,
   "metadata": {},
   "outputs": [],
   "source": [
    "print(\"GPU is\", \"available\" if tf.test.is_gpu_available() else \"NOT AVAILABLE\")"
   ]
  },
  {
   "cell_type": "markdown",
   "metadata": {},
   "source": [
    "## Working with flower image set\n",
    "Downloading and extracting image set:"
   ]
  },
  {
   "cell_type": "code",
   "execution_count": null,
   "metadata": {
    "scrolled": true
   },
   "outputs": [],
   "source": [
    "print('Beginning tf models download with requests')\n",
    "os.makedirs('build', exist_ok=True) \n",
    "tf.keras.utils.get_file(os.path.realpath(\"build/flower_photos\"), \n",
    "                    \"http://download.tensorflow.org/example_images/flower_photos.tgz\",\n",
    "                    untar=True, extract=True, cache_dir=os.path.join(os.getcwd()+\"/build\"), cache_subdir=\"\") \n",
    "print('File unzipped')"
   ]
  },
  {
   "cell_type": "markdown",
   "metadata": {},
   "source": [
    "## Visualization (optional)\n",
    "It is possible to visualize some details of a training using TensorBoard. You can run TensorBoard in advance to have a continuous visualization, or run it after everything is done to have an overview. TensorBoard reads and visualizes the logs of a training. Thus, if it is started in advance, then it might show a \"No dashboard\" message, or a previous training first, but it should load some graphs shortly after the training starts."
   ]
  },
  {
   "cell_type": "code",
   "execution_count": null,
   "metadata": {},
   "outputs": [],
   "source": [
    "%reload_ext tensorboard\n",
    "%tensorboard --logdir build/logs"
   ]
  },
  {
   "cell_type": "code",
   "execution_count": null,
   "metadata": {},
   "outputs": [],
   "source": [
    "# Some environments cannot clean up Tensorboard temp files, which leads to an error message when the tensorboard is started, \n",
    "# saying that you have to kill the process. In such cases uncomment the following lines, or delete the .temp files manually, \n",
    "# and try running tensorboard again.\n",
    "\n",
    "#tempdir = os.path.join(tempfile.gettempdir(), \".tensorboard-info\")\n",
    "#if os.path.exists(tempdir):\n",
    "#    shutil.rmtree(tempdir)"
   ]
  },
  {
   "cell_type": "markdown",
   "metadata": {},
   "source": [
    "### Re-train with flower images"
   ]
  },
  {
   "cell_type": "code",
   "execution_count": null,
   "metadata": {
    "scrolled": true
   },
   "outputs": [],
   "source": [
    "%run scripts/retrain.py --image_dir build/flower_photos --tfhub_module https://tfhub.dev/google/imagenet/mobilenet_v1_100_224/feature_vector/3 --output_labels build/flower_labels.txt --output_graph build/flowers_graph.pb --how_many_training_steps 25 --summaries_dir build/logs"
   ]
  },
  {
   "cell_type": "markdown",
   "metadata": {},
   "source": [
    "### Validating with flowers\n",
    "Take a random picture from the flower image set to see if the network classifies it correctly:"
   ]
  },
  {
   "cell_type": "code",
   "execution_count": null,
   "metadata": {},
   "outputs": [],
   "source": [
    "%run scripts/label_image.py --image build/flower_photos/roses/7186509956_c37c02fb43_n.jpg --graph build/flowers_graph.pb --labels build/flower_labels.txt --input_layer module_apply_default/hub_input/Mul --output_layer final_result"
   ]
  },
  {
   "cell_type": "markdown",
   "metadata": {},
   "source": [
    "## Working with SIMATIC image set\n",
    "Extracting image set:"
   ]
  },
  {
   "cell_type": "code",
   "execution_count": null,
   "metadata": {
    "scrolled": true
   },
   "outputs": [],
   "source": [
    "with tarfile.open(\"../../datasets/simatic_photos.tgz\") as tar:\n",
    "    tar.extractall('build/')\n",
    "print('File unzipped')"
   ]
  },
  {
   "cell_type": "markdown",
   "metadata": {},
   "source": [
    "### Re-train network with SIMATIC images"
   ]
  },
  {
   "cell_type": "code",
   "execution_count": null,
   "metadata": {
    "scrolled": true
   },
   "outputs": [],
   "source": [
    "%run scripts/retrain.py --image_dir build/simatic_photos --tfhub_module https://tfhub.dev/google/imagenet/mobilenet_v1_100_224/feature_vector/3 --output_labels build/retrained_simatic_labels.txt --output_graph build/simatic_graph.pb --how_many_training_steps 25 --summaries_dir build/logs"
   ]
  },
  {
   "cell_type": "markdown",
   "metadata": {},
   "source": [
    "### Validating with SIMATIC images\n",
    "\n",
    "Now having the script, take a random picture from the SIMATIC image set to see if the network classifies it correctly:"
   ]
  },
  {
   "cell_type": "code",
   "execution_count": null,
   "metadata": {},
   "outputs": [],
   "source": [
    "%run scripts/label_image.py --image build/simatic_photos/ET200sp/IMG_0371.JPG --graph build/simatic_graph.pb --labels build/retrained_simatic_labels.txt --input_layer module_apply_default/hub_input/Mul --output_layer final_result"
   ]
  }
 ],
 "metadata": {
  "kernelspec": {
   "display_name": "Python (image-classification)",
   "language": "python",
   "name": "image-classification"
  },
  "language_info": {
   "codemirror_mode": {
    "name": "ipython",
    "version": 3
   },
   "file_extension": ".py",
   "mimetype": "text/x-python",
   "name": "python",
   "nbconvert_exporter": "python",
   "pygments_lexer": "ipython3",
   "version": "3.7.6"
  }
 },
 "nbformat": 4,
 "nbformat_minor": 4
}
